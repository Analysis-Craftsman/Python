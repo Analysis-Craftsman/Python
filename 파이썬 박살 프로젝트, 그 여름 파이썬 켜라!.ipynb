{
 "cells": [
  {
   "cell_type": "code",
   "execution_count": 108,
   "metadata": {},
   "outputs": [
    {
     "name": "stdout",
     "output_type": "stream",
     "text": [
      "1 Customers who visited in the morning were identified.\n",
      "2 Special customers enter.\n",
      "3 Customers who visited in the morning were identified.\n",
      "ERROR\n",
      "5 Customers who visited in the morning were identified.\n",
      "ERROR\n"
     ]
    }
   ],
   "source": [
    "# IF , 만약에~\n",
    "# 특정 조건을 만드는 아주 중요한 메소드라고 하죠!\n",
    "# 당신의 최강 무기가 될 것 입니다!\n",
    "\n",
    "price = [ \"AM06_USER\", \"PM09_USER\", \"AM10_USER\", \"PM03_USER\", \"AM08_USER\", \"PM01_USER\" ]\n",
    "    \n",
    "for lists in range( len(price) ) :\n",
    "    if \"AM\" in price[lists] :\n",
    "        print( lists+1, \"Customers who visited in the morning were identified.\" )\n",
    "    elif \"PM\" in price[lists] and \"09\" in price[lists] :\n",
    "        print( lists+1, \"Special customers enter.\" )\n",
    "    else : # ^^\n",
    "        print( \"ERROR\" )\n",
    "    "
   ]
  },
  {
   "cell_type": "code",
   "execution_count": 112,
   "metadata": {},
   "outputs": [
    {
     "name": "stdout",
     "output_type": "stream",
     "text": [
      "20 번째!! 아직 포인트가 떨어지지 않았네요.\n",
      "19 번째!! 아직 포인트가 떨어지지 않았네요.\n",
      "18 번째!! 아직 포인트가 떨어지지 않았네요.\n",
      "17 번째!! 아직 포인트가 떨어지지 않았네요.\n",
      "16 번째!! 아직 포인트가 떨어지지 않았네요.\n",
      "15 번째!! 아직 포인트가 떨어지지 않았네요.\n",
      "14 번째!! 아직 포인트가 떨어지지 않았네요.\n",
      "13 번째!! 아직 포인트가 떨어지지 않았네요.\n",
      "12 번째!! 아직 포인트가 떨어지지 않았네요.\n",
      "11 번째!! 아직 포인트가 떨어지지 않았네요.\n",
      "10 번째!! 아직 포인트가 떨어지지 않았네요.\n",
      "9 번째!! 아직 포인트가 떨어지지 않았네요.\n",
      "8 번째!! 아직 포인트가 떨어지지 않았네요.\n",
      "7 번째!! 아직 포인트가 떨어지지 않았네요.\n",
      "6 번째!! 아직 포인트가 떨어지지 않았네요.\n",
      "5 번째!! 아직 포인트가 떨어지지 않았네요.\n",
      "4 번째!! 아직 포인트가 떨어지지 않았네요.\n",
      "3 번째!! 아직 포인트가 떨어지지 않았네요.\n",
      "2 번째!! 아직 포인트가 떨어지지 않았네요.\n",
      "1 번째!! 아직 포인트가 떨어지지 않았네요.\n",
      "드디어 남은 포인트 소멸, 종료하겠습니다.\n"
     ]
    }
   ],
   "source": [
    "# While\n",
    "\n",
    "key_point = 20\n",
    "\n",
    "while key_point >= 0 :\n",
    "    if key_point == 0 :\n",
    "        print(\"드디어 남은 포인트 소멸, 종료하겠습니다.\")\n",
    "        break\n",
    "    else :\n",
    "        print(key_point, \"번째!! 아직 포인트가 떨어지지 않았네요.\")\n",
    "        key_point -= 1"
   ]
  },
  {
   "cell_type": "code",
   "execution_count": 118,
   "metadata": {},
   "outputs": [
    {
     "name": "stdout",
     "output_type": "stream",
     "text": [
      "1\n",
      "2\n"
     ]
    },
    {
     "ename": "NameError",
     "evalue": "name 'sdadsaadsads' is not defined",
     "output_type": "error",
     "traceback": [
      "\u001b[0;31m---------------------------------------------------------------------------\u001b[0m",
      "\u001b[0;31mNameError\u001b[0m                                 Traceback (most recent call last)",
      "\u001b[0;32m<ipython-input-118-af669724f121>\u001b[0m in \u001b[0;36m<module>\u001b[0;34m\u001b[0m\n\u001b[1;32m      2\u001b[0m \u001b[0;32mfor\u001b[0m \u001b[0mi\u001b[0m \u001b[0;32min\u001b[0m \u001b[0mrange\u001b[0m\u001b[0;34m(\u001b[0m\u001b[0;36m5\u001b[0m\u001b[0;34m)\u001b[0m \u001b[0;34m:\u001b[0m\u001b[0;34m\u001b[0m\u001b[0;34m\u001b[0m\u001b[0m\n\u001b[1;32m      3\u001b[0m     \u001b[0;32mif\u001b[0m \u001b[0mi\u001b[0m\u001b[0;34m+\u001b[0m\u001b[0;36m1\u001b[0m \u001b[0;34m==\u001b[0m \u001b[0;36m3\u001b[0m \u001b[0;34m:\u001b[0m\u001b[0;34m\u001b[0m\u001b[0;34m\u001b[0m\u001b[0m\n\u001b[0;32m----> 4\u001b[0;31m         \u001b[0msdadsaadsads\u001b[0m\u001b[0;34m\u001b[0m\u001b[0;34m\u001b[0m\u001b[0m\n\u001b[0m\u001b[1;32m      5\u001b[0m     \u001b[0;32melse\u001b[0m \u001b[0;34m:\u001b[0m\u001b[0;34m\u001b[0m\u001b[0;34m\u001b[0m\u001b[0m\n\u001b[1;32m      6\u001b[0m         \u001b[0mprint\u001b[0m\u001b[0;34m(\u001b[0m\u001b[0mi\u001b[0m\u001b[0;34m+\u001b[0m\u001b[0;36m1\u001b[0m\u001b[0;34m)\u001b[0m\u001b[0;34m\u001b[0m\u001b[0;34m\u001b[0m\u001b[0m\n",
      "\u001b[0;31mNameError\u001b[0m: name 'sdadsaadsads' is not defined"
     ]
    }
   ],
   "source": [
    "# 문제가 발생 했습니다.\n",
    "for i in range(5) :\n",
    "    if i+1 == 3 :\n",
    "        sdadsaadsads\n",
    "    else :\n",
    "        print(i+1)"
   ]
  },
  {
   "cell_type": "code",
   "execution_count": 119,
   "metadata": {},
   "outputs": [
    {
     "name": "stdout",
     "output_type": "stream",
     "text": [
      "1\n",
      "2\n",
      "3\n",
      "---------\n",
      "Error LOG :  name 'sdadsaadsads' is not defined\n",
      "4\n",
      "---------\n",
      "5\n"
     ]
    }
   ],
   "source": [
    "# 문제를 넘어가겠습니다.\n",
    "for i in range(5) :\n",
    "    try :\n",
    "        if i == 3 :\n",
    "            sdadsaadsads\n",
    "        else :\n",
    "            print(i+1)\n",
    "    except NameError as bug :\n",
    "        print(\"---------\")\n",
    "        print(\"Error LOG : \", bug)\n",
    "        print(i+1)\n",
    "        print(\"---------\")\n",
    "        pass"
   ]
  },
  {
   "cell_type": "code",
   "execution_count": 120,
   "metadata": {},
   "outputs": [
    {
     "name": "stdout",
     "output_type": "stream",
     "text": [
      "------------------------------\n",
      "Mr.Lee 님 안녕하세요, 좋은 아침입니다.\n",
      "오늘은 어떤 차를 드릴까요?\n",
      "------------------------------\n",
      "------------------------------\n",
      "Mr.Han 님 안녕하세요, 좋은 아침입니다.\n",
      "오늘은 어떤 차를 드릴까요?\n",
      "------------------------------\n",
      "------------------------------\n",
      "Ms.Jeong 님 안녕하세요, 좋은 아침입니다.\n",
      "오늘은 어떤 커피를 드릴까요?\n",
      "------------------------------\n"
     ]
    }
   ],
   "source": [
    "# Class\n",
    "class Person() :\n",
    "    def Introduce(self, name) :\n",
    "        self.name = name\n",
    "        return name + \" 님 안녕하세요, 좋은 아침입니다.\"\n",
    "    \n",
    "    def Service(self, name) :\n",
    "        self.name = name\n",
    "        if \"Ms\" in name :\n",
    "            return \"오늘은 어떤 커피를 드릴까요?\"\n",
    "        elif \"Mr\" in name :\n",
    "            return \"오늘은 어떤 차를 드릴까요?\"\n",
    "\n",
    "myClients = [ \"Mr.Lee\", \"Mr.Han\", \"Ms.Jeong\" ]\n",
    "myClass = Person()\n",
    "\n",
    "for i in myClients :\n",
    "    print( \"------------------------------\" )\n",
    "    print( myClass.Introduce(i) )\n",
    "    print( myClass.Service(i) )\n",
    "    print( \"------------------------------\" )"
   ]
  },
  {
   "cell_type": "code",
   "execution_count": 127,
   "metadata": {},
   "outputs": [
    {
     "name": "stdout",
     "output_type": "stream",
     "text": [
      "------------------------------------------------------------------------------------\n",
      "{'mkt': 'google ads', 'dev': 'java', 'social': 'facebook'}\n",
      "dict_keys(['mkt', 'dev', 'social'])\n",
      "dict_values(['google ads', 'java', 'facebook'])\n",
      "dict_keys(['mkt', 'dev'])\n",
      "dict_values(['google ads', 'java'])\n",
      "['mkt', 'dev']\n",
      "google ads\n",
      "------------------------------------------------------------------------------------\n"
     ]
    }
   ],
   "source": [
    "# one = [\"google\", \"naver\", \"daum\"]\n",
    "\n",
    "# print(one)\n",
    "# print(one.pop(0))\n",
    "# print(one)\n",
    "# print(one.remove(\"naver\"))\n",
    "# print(one)\n",
    "# print(one.append(\"naver\"))\n",
    "# print(one)\n",
    "# print(one.insert(0, \"google\"))\n",
    "# print(one)\n",
    "\n",
    "print(\"------------------------------------------------------------------------------------\")\n",
    "\n",
    "two = { \"mkt\" : \"google ads\", \"dev\" : \"python\", \"dev\" : \"java\", \"social\" : \"facebook\" }\n",
    "print(two)\n",
    "print(two.keys())\n",
    "print(two.values())\n",
    "\n",
    "del two[\"social\"]\n",
    "print(two.keys())\n",
    "print(two.values())\n",
    "\n",
    "two_keys_list = list(two.keys())\n",
    "two_values_list = list(two.values())\n",
    "\n",
    "print( two_keys_list )\n",
    "print( two_values_list[0] )\n",
    "\n",
    "print(\"------------------------------------------------------------------------------------\")\n",
    "\n",
    "# three = (\"google\", \"naver\", \"daum\")\n",
    "\n",
    "# print( three[0] )\n",
    "# print( three[1] )\n"
   ]
  },
  {
   "cell_type": "code",
   "execution_count": null,
   "metadata": {},
   "outputs": [],
   "source": []
  },
  {
   "cell_type": "code",
   "execution_count": null,
   "metadata": {},
   "outputs": [],
   "source": []
  },
  {
   "cell_type": "code",
   "execution_count": null,
   "metadata": {},
   "outputs": [],
   "source": []
  },
  {
   "cell_type": "code",
   "execution_count": null,
   "metadata": {},
   "outputs": [],
   "source": []
  },
  {
   "cell_type": "code",
   "execution_count": null,
   "metadata": {},
   "outputs": [],
   "source": []
  },
  {
   "cell_type": "code",
   "execution_count": null,
   "metadata": {},
   "outputs": [],
   "source": []
  }
 ],
 "metadata": {
  "kernelspec": {
   "display_name": "Python 3",
   "language": "python",
   "name": "python3"
  },
  "language_info": {
   "codemirror_mode": {
    "name": "ipython",
    "version": 3
   },
   "file_extension": ".py",
   "mimetype": "text/x-python",
   "name": "python",
   "nbconvert_exporter": "python",
   "pygments_lexer": "ipython3",
   "version": "3.8.3"
  }
 },
 "nbformat": 4,
 "nbformat_minor": 4
}
